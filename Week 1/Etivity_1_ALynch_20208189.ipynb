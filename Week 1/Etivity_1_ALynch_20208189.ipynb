{
  "nbformat": 4,
  "nbformat_minor": 0,
  "metadata": {
    "colab": {
      "name": "Etivity_1_ALynch_20208189.ipynb",
      "provenance": [],
      "collapsed_sections": [],
      "toc_visible": true,
      "include_colab_link": true
    },
    "kernelspec": {
      "name": "python3",
      "display_name": "Python 3"
    },
    "language_info": {
      "name": "python"
    }
  },
  "cells": [
    {
      "cell_type": "markdown",
      "metadata": {
        "id": "view-in-github",
        "colab_type": "text"
      },
      "source": [
        "<a href=\"https://colab.research.google.com/github/andylynchul/ET5003_Assignments/blob/master/Week%201/Etivity_1_ALynch_20208189.ipynb\" target=\"_parent\"><img src=\"https://colab.research.google.com/assets/colab-badge.svg\" alt=\"Open In Colab\"/></a>"
      ]
    },
    {
      "cell_type": "markdown",
      "metadata": {
        "id": "jxK1_8f1dvrc"
      },
      "source": [
        "<div>\n",
        "<img src=\"https://drive.google.com/uc?export=view&id=1vK33e_EqaHgBHcbRV_m38hx6IkG0blK_\" width=\"350\"/>\n",
        "</div> \n",
        "\n",
        "#**Artificial Intelligence - MSc**\n",
        "ET5003 - MACHINE LEARNING APPLICATIONS \n",
        "\n",
        "###Instructor: Enrique Naredo\n",
        "###ET5003_Etivity-1"
      ]
    },
    {
      "cell_type": "code",
      "metadata": {
        "id": "LqXD_IwUQuBF",
        "cellView": "form"
      },
      "source": [
        "#@title Current Date\n",
        "Today = '2021-08-22' #@param {type:\"date\"}\n"
      ],
      "execution_count": 152,
      "outputs": []
    },
    {
      "cell_type": "code",
      "metadata": {
        "id": "uzDKau31OjVO",
        "cellView": "form"
      },
      "source": [
        "#@markdown ---\n",
        "#@markdown ### Enter your details here:\n",
        "Student_ID = \"20208189\" #@param {type:\"string\"}\n",
        "Student_full_name = \"Andrew Lynch\" #@param {type:\"string\"}\n",
        "#@markdown ---"
      ],
      "execution_count": 153,
      "outputs": []
    },
    {
      "cell_type": "code",
      "metadata": {
        "id": "r39xGZckTpKx",
        "cellView": "form"
      },
      "source": [
        "#@title Notebook information\n",
        "Notebook_type = 'Etivity' #@param [\"Example\", \"Lab\", \"Practice\", \"Etivity\", \"Assignment\", \"Exam\"]\n",
        "Version = Final #@param [\"Draft\", \"Final\"] {type:\"raw\"}\n",
        "Submission = True #@param {type:\"boolean\"}"
      ],
      "execution_count": 154,
      "outputs": []
    },
    {
      "cell_type": "code",
      "metadata": {
        "id": "yJcY1_tmIJbf"
      },
      "source": [
        ""
      ],
      "execution_count": null,
      "outputs": []
    },
    {
      "cell_type": "markdown",
      "metadata": {
        "id": "5y7zXQnyk9bi"
      },
      "source": [
        "#Introduction\n",
        "The objective of this exercise was to develop a general-recipe multinomial logistic classifier (GRML) and Bayesian multinomial logistic regression (MLR) classifier to classify samples of handwritten digits into a number of classes. The GRML was used to provide a baseline to allow comparison of the BML and a tuned GRML once the issue of difficult to detect instances was addressed. An intended outcome of the exercise was to gain knowledge of the `degree` of uncertainty attached to a particular production which provides a scale for us to predict on as opposed to the GRML which provides a much stricter classification.\n",
        " \n",
        "## Multinomial Logistic Regression (MLR)\n",
        "Logistic Regression is concerned with grouping or classifying data. Binomial Logistic Regression is employed when there are only two classes to be applied to the data. The model is trained to assess the probability of a data point being classified belongs to a class usually labeled 1 (or positive). The model uses a binomial probability distribution function. [1] Multinomial logistic Regression is used when there are a number of (more than 2) classes involved. This problem is termed a multi class or multi nominal classification problem. It utilizes Multinomial Probability Distribution. Implementing a MLR classifier requires the use \n",
        " \n",
        "### Bayesian Multinomial Logistic Regression (BMLR)\n",
        "BMLR (or Naive Bayes classifiers) are built on the foundation of Bayes Theorem which provides a method to calculate the probability of a hypothesis given prior knowledge. It is represented as follows [4];\n",
        "\n",
        "\n",
        "$$P(x | y) = \\frac{P(x) \\ P(y | x)}{P(y)}\\$$\n",
        " \n",
        "- $P( x | y)$ is called the _posterior_; this is what we are trying to estimate, \n",
        "- $P(y | x)$ is called the _likelihood_; this is the probability of observing the new evidence, given our initial hypothesis, \n",
        "- $P(x)$ is called the _prior_; this is the probability of our hypothesis without any additional prior information,\n",
        "- $P(y)$ is called the _marginal likelihood_; this is the total probability of observing the evidence.\n",
        "\n",
        "**[Notation taken from [4]]**\n",
        "\n",
        "Bayes Theorem allows us to calculate the Posterior Probability of an event (or data point being part of a class) based on evidence / prior information. This Posterior is used as a degree of uncertainty to allow the ML system to classify the data point into one of the defined classes. In this particular case it can used to classify the samples but also provide a rank in terms of how difficult it was to classify the data allowing for more control of how to handle such cases.\n",
        "\n",
        "\n",
        " \n",
        " \n",
        " \n",
        " \n",
        " \n",
        "\n"
      ]
    },
    {
      "cell_type": "markdown",
      "metadata": {
        "id": "80m304lUefG4"
      },
      "source": [
        "## MNIST dataset"
      ]
    },
    {
      "cell_type": "markdown",
      "metadata": {
        "id": "Bs8mHGcidHSa"
      },
      "source": [
        "\n",
        "\n",
        "The MNIST database  is a dataset of handwritten digits that has been and is extensively used in machine learning. There are $10$ classes, each image is $28\\times28$ pixels and, therefore, each input is $x_i\\in\\mathbb{R}^{784}$. "
      ]
    },
    {
      "cell_type": "markdown",
      "metadata": {
        "id": "ailycCq5epj2"
      },
      "source": [
        "## Task"
      ]
    },
    {
      "cell_type": "markdown",
      "metadata": {
        "id": "a-yNAxhUemjM"
      },
      "source": [
        "You have to extend the code to manage any arbitrary number of classes, in other words you have to implement a general-recipe multinomial logistic classifier and Bayesian multinomial logistic classifier.\n",
        "\n",
        "You must then select  3 digits at random and perform  the following task. \n",
        "\n",
        "1. Your goal is to use Bayesian multinomial logistic regression (as in the road-sign notebook) to solve this classification problem. \n",
        "\n",
        "2. You can downsize the training dataset (e.g., 40% training and 60%testing) if the computation of the posterior takes too much time in your computer.\n",
        "\n",
        "3. Use the posterior uncertainty to detect the instances (digits) in the test set that are hard to classify and remove them from the test-set.\n",
        "\n",
        "4. Then you need to compute again the accuracy of the general-recipe logistic regression on the remaining (non-difficult) instances and comment on the result.\n",
        "\n",
        "5. In practice, the task is to use uncertainty estimation to detect the difficult instances in the test-set. This is equivalent to refuse to classify all high-uncertainty instances or, in other words, when we are uncertain we say \"I don't know\" and we do not return any class. In this way, you will learn how uncertainty can be used to make safer decisions, by detecting the instances that are difficult to classify.\n"
      ]
    },
    {
      "cell_type": "markdown",
      "metadata": {
        "id": "nMRKRTQZe5fW"
      },
      "source": [
        "## Libraries"
      ]
    },
    {
      "cell_type": "code",
      "metadata": {
        "id": "IxusAui7AX_f"
      },
      "source": [
        "# Suppressing Warnings:\n",
        "import warnings\n",
        "warnings.filterwarnings(\"ignore\")"
      ],
      "execution_count": 155,
      "outputs": []
    },
    {
      "cell_type": "code",
      "metadata": {
        "id": "MQOfGMQpdHSb"
      },
      "source": [
        "# Import libraries\n",
        "from sklearn.linear_model import LogisticRegression\n",
        "from sklearn.metrics import accuracy_score, confusion_matrix, classification_report\n",
        "from sklearn.model_selection import train_test_split\n",
        "import scipy.optimize as optimize\n",
        "from scipy.special import erf\n",
        "import pandas as pd\n",
        "import numpy as np\n",
        "import seaborn as sns\n",
        "from tqdm import tqdm\n",
        "from skimage.io import imread, imshow\n",
        "import matplotlib.image as mpimg\n",
        "import matplotlib.pyplot as plt\n",
        "import matplotlib\n",
        "%matplotlib inline\n",
        "import arviz as az\n",
        "from scipy.io import loadmat\n",
        "import pymc3 as pm\n",
        "import random\n",
        "import theano as tt\n",
        "from sklearn.utils import shuffle\n",
        "from skimage.color import rgb2gray"
      ],
      "execution_count": 156,
      "outputs": []
    },
    {
      "cell_type": "code",
      "metadata": {
        "id": "P5-qMSjpAQ-9"
      },
      "source": [
        "# Setting a seed:\n",
        "np.random.seed(321)"
      ],
      "execution_count": 157,
      "outputs": []
    },
    {
      "cell_type": "markdown",
      "metadata": {
        "id": "r4hSuwkUfVQb"
      },
      "source": [
        "## Dataset"
      ]
    },
    {
      "cell_type": "markdown",
      "metadata": {
        "id": "w99Pc66YdHSd"
      },
      "source": [
        "### Loading the MNIST dataset"
      ]
    },
    {
      "cell_type": "code",
      "metadata": {
        "colab": {
          "base_uri": "https://localhost:8080/"
        },
        "id": "CYFWAbXVzynp",
        "outputId": "002ecee2-ee32-4118-a225-982855b2ce89"
      },
      "source": [
        "from google.colab import drive\n",
        "drive.mount('/content/drive')"
      ],
      "execution_count": 158,
      "outputs": [
        {
          "output_type": "stream",
          "name": "stdout",
          "text": [
            "Drive already mounted at /content/drive; to attempt to forcibly remount, call drive.mount(\"/content/drive\", force_remount=True).\n"
          ]
        }
      ]
    },
    {
      "cell_type": "code",
      "metadata": {
        "colab": {
          "base_uri": "https://localhost:8080/"
        },
        "id": "g4rCnS4vdHSd",
        "outputId": "ec7d145c-71a1-4b98-a1b7-394a76180359"
      },
      "source": [
        "# Path, copy the path from your Drive\n",
        "Path = '/content/drive/MyDrive/Masters/Year2/ET5003/Week1/Mnist Data/'\n",
        "\n",
        "# MNIST Data\n",
        "train_data = Path + 'mnist_train.csv'\n",
        "test_data = Path + 'mnist_test.csv'\n",
        "\n",
        "# train data\n",
        "df_train = pd.read_csv(train_data)\n",
        "X_train = df_train.drop(\"label\",axis=1).values\n",
        "y_train = df_train.label.values\n",
        "print(X_train.shape)\n",
        "\n",
        "# test data\n",
        "df_test = pd.read_csv(test_data)\n",
        "X_test = df_test.drop(\"label\",axis=1).values\n",
        "y_test = df_test.label.values\n",
        "print(X_test.shape)"
      ],
      "execution_count": 159,
      "outputs": [
        {
          "output_type": "stream",
          "name": "stdout",
          "text": [
            "(60000, 784)\n",
            "(10000, 784)\n"
          ]
        }
      ]
    },
    {
      "cell_type": "code",
      "metadata": {
        "colab": {
          "base_uri": "https://localhost:8080/"
        },
        "id": "ZsDY99UC2gYB",
        "outputId": "516b8a60-49d3-4634-bd71-c2c5bdce18b7"
      },
      "source": [
        "print(X_train[0])"
      ],
      "execution_count": 160,
      "outputs": [
        {
          "output_type": "stream",
          "name": "stdout",
          "text": [
            "[  0   0   0   0   0   0   0   0   0   0   0   0   0   0   0   0   0   0\n",
            "   0   0   0   0   0   0   0   0   0   0   0   0   0   0   0   0   0   0\n",
            "   0   0   0   0   0   0   0   0   0   0   0   0   0   0   0   0   0   0\n",
            "   0   0   0   0   0   0   0   0   0   0   0   0   0   0   0   0   0   0\n",
            "   0   0   0   0   0   0   0   0   0   0   0   0   0   0   0   0   0   0\n",
            "   0   0   0   0   0   0   0   0   0   0   0   0   0   0   0   0   0   0\n",
            "   0   0   0   0   0   0   0   0   0   0   0   0   0   0   0   0   0   0\n",
            "   0   0   0   0   0   0   0   0   0   0   0   0   0   0   0   0   0   0\n",
            "   0   0   0   0   0   0   0   0   3  18  18  18 126 136 175  26 166 255\n",
            " 247 127   0   0   0   0   0   0   0   0   0   0   0   0  30  36  94 154\n",
            " 170 253 253 253 253 253 225 172 253 242 195  64   0   0   0   0   0   0\n",
            "   0   0   0   0   0  49 238 253 253 253 253 253 253 253 253 251  93  82\n",
            "  82  56  39   0   0   0   0   0   0   0   0   0   0   0   0  18 219 253\n",
            " 253 253 253 253 198 182 247 241   0   0   0   0   0   0   0   0   0   0\n",
            "   0   0   0   0   0   0   0   0  80 156 107 253 253 205  11   0  43 154\n",
            "   0   0   0   0   0   0   0   0   0   0   0   0   0   0   0   0   0   0\n",
            "   0  14   1 154 253  90   0   0   0   0   0   0   0   0   0   0   0   0\n",
            "   0   0   0   0   0   0   0   0   0   0   0   0   0 139 253 190   2   0\n",
            "   0   0   0   0   0   0   0   0   0   0   0   0   0   0   0   0   0   0\n",
            "   0   0   0   0   0  11 190 253  70   0   0   0   0   0   0   0   0   0\n",
            "   0   0   0   0   0   0   0   0   0   0   0   0   0   0   0   0  35 241\n",
            " 225 160 108   1   0   0   0   0   0   0   0   0   0   0   0   0   0   0\n",
            "   0   0   0   0   0   0   0   0   0  81 240 253 253 119  25   0   0   0\n",
            "   0   0   0   0   0   0   0   0   0   0   0   0   0   0   0   0   0   0\n",
            "   0   0  45 186 253 253 150  27   0   0   0   0   0   0   0   0   0   0\n",
            "   0   0   0   0   0   0   0   0   0   0   0   0   0  16  93 252 253 187\n",
            "   0   0   0   0   0   0   0   0   0   0   0   0   0   0   0   0   0   0\n",
            "   0   0   0   0   0   0   0 249 253 249  64   0   0   0   0   0   0   0\n",
            "   0   0   0   0   0   0   0   0   0   0   0   0   0   0  46 130 183 253\n",
            " 253 207   2   0   0   0   0   0   0   0   0   0   0   0   0   0   0   0\n",
            "   0   0   0   0  39 148 229 253 253 253 250 182   0   0   0   0   0   0\n",
            "   0   0   0   0   0   0   0   0   0   0   0   0  24 114 221 253 253 253\n",
            " 253 201  78   0   0   0   0   0   0   0   0   0   0   0   0   0   0   0\n",
            "   0   0  23  66 213 253 253 253 253 198  81   2   0   0   0   0   0   0\n",
            "   0   0   0   0   0   0   0   0   0   0  18 171 219 253 253 253 253 195\n",
            "  80   9   0   0   0   0   0   0   0   0   0   0   0   0   0   0   0   0\n",
            "  55 172 226 253 253 253 253 244 133  11   0   0   0   0   0   0   0   0\n",
            "   0   0   0   0   0   0   0   0   0   0 136 253 253 253 212 135 132  16\n",
            "   0   0   0   0   0   0   0   0   0   0   0   0   0   0   0   0   0   0\n",
            "   0   0   0   0   0   0   0   0   0   0   0   0   0   0   0   0   0   0\n",
            "   0   0   0   0   0   0   0   0   0   0   0   0   0   0   0   0   0   0\n",
            "   0   0   0   0   0   0   0   0   0   0   0   0   0   0   0   0   0   0\n",
            "   0   0   0   0   0   0   0   0   0   0   0   0   0   0   0   0   0   0\n",
            "   0   0   0   0   0   0   0   0   0   0]\n"
          ]
        }
      ]
    },
    {
      "cell_type": "code",
      "metadata": {
        "colab": {
          "base_uri": "https://localhost:8080/"
        },
        "id": "O2ubJ_WoAqBh",
        "outputId": "ca5de59e-0537-491b-d0b0-82fc30c3515f"
      },
      "source": [
        "# Normalizing the Inputs:\n",
        "X_train = X_train/255\n",
        "X_test = X_test/255\n",
        "\n",
        "# Printing the new input range of values:\n",
        "minv = np.min(X_train)\n",
        "maxv = np.max(X_train)\n",
        "\n",
        "print(minv,maxv)"
      ],
      "execution_count": 161,
      "outputs": [
        {
          "output_type": "stream",
          "name": "stdout",
          "text": [
            "0.0 1.0\n"
          ]
        }
      ]
    },
    {
      "cell_type": "markdown",
      "metadata": {
        "id": "SR6HpkWndHSe"
      },
      "source": [
        "### Description of Data:"
      ]
    },
    {
      "cell_type": "code",
      "metadata": {
        "colab": {
          "base_uri": "https://localhost:8080/"
        },
        "id": "sibN1Vv1dHSf",
        "outputId": "3a6376e9-07ed-4682-c60c-6321377c6f05"
      },
      "source": [
        "# Number of examples\n",
        "n_train =  len(X_train)\n",
        "n_test =  len(X_test)\n",
        "\n",
        "# Shape of an image\n",
        "image_shape = X_train.shape[1]\n",
        "\n",
        "# unique classes/labels in the training dataset.\n",
        "alltotal = set(y_train)\n",
        "n_classes = len(alltotal)\n",
        "\n",
        "print(\"Number of Training examples =\", n_train)\n",
        "print(\"Number of Test examples =\", n_test)\n",
        "print(\"Image input shape =\", image_shape)\n",
        "print(\"Number of classes =\", n_classes)"
      ],
      "execution_count": 162,
      "outputs": [
        {
          "output_type": "stream",
          "name": "stdout",
          "text": [
            "Number of Training examples = 60000\n",
            "Number of Test examples = 10000\n",
            "Image input shape = 784\n",
            "Number of classes = 10\n"
          ]
        }
      ]
    },
    {
      "cell_type": "markdown",
      "metadata": {
        "id": "6HQDSvrRKZF6"
      },
      "source": [
        "### Class Distribution:"
      ]
    },
    {
      "cell_type": "code",
      "metadata": {
        "id": "XG8GdlpBKdCt",
        "colab": {
          "base_uri": "https://localhost:8080/",
          "height": 295
        },
        "outputId": "1ba4d207-1c22-47e5-f8c3-fa38a81aef14"
      },
      "source": [
        "fig, ax = plt.subplots()\n",
        "ind = np.arange(n_classes)\n",
        "\n",
        "n, bins, patches = ax.hist(y_train, ec='black', align='mid')\n",
        "ax.set_xlabel('classes')\n",
        "ax.set_ylabel('counts')\n",
        "ax.set_title(r'Histogram of Classification Distibution')\n",
        "plt.show()"
      ],
      "execution_count": 163,
      "outputs": [
        {
          "output_type": "display_data",
          "data": {
            "image/png": "[encoded data removed]",
            "text/plain": [
              "<Figure size 432x288 with 1 Axes>"
            ]
          },
          "metadata": {
            "needs_background": "light"
          }
        }
      ]
    },
    {
      "cell_type": "markdown",
      "metadata": {
        "id": "EyLWw3nsLCtk"
      },
      "source": [
        "## Downsampling"
      ]
    },
    {
      "cell_type": "markdown",
      "metadata": {
        "id": "2U1lFEwhLKBf"
      },
      "source": [
        "### Randomly selecting 3 of the 10 Digit Classes"
      ]
    },
    {
      "cell_type": "code",
      "metadata": {
        "id": "0EeRZZWdLRPT",
        "colab": {
          "base_uri": "https://localhost:8080/"
        },
        "outputId": "afe7be50-9ee6-4a6f-cac8-bb1e1a2eeed4"
      },
      "source": [
        "# We select the number of Classes we want:\n",
        "n_classes = 3\n",
        "\n",
        "# Empty list to append the random digit classes we select:\n",
        "classes = []\n",
        "\n",
        "# We select 3 digits at random and make sure they are unique:\n",
        "while len(classes) < n_classes:\n",
        "    \n",
        "    # Randomly drawing a digit from 0-9:\n",
        "    num2choose = np.random.randint(0,10)\n",
        "\n",
        "    # Append the digit if it's not already in our list of classes:\n",
        "    if num2choose not in classes: \n",
        "      classes.append(num2choose)\n",
        "        \n",
        "        \n",
        "# Sorting the Classes smallest to largest    \n",
        "classes.sort()\n",
        "# print classes selected\n",
        "classes"
      ],
      "execution_count": 164,
      "outputs": [
        {
          "output_type": "execute_result",
          "data": {
            "text/plain": [
              "[4, 8, 9]"
            ]
          },
          "metadata": {},
          "execution_count": 164
        }
      ]
    },
    {
      "cell_type": "code",
      "metadata": {
        "id": "2M8R5NqKMB_M"
      },
      "source": [
        "# The number of instances we'll keep for each of our 3 digits:\n",
        "inst_class = 1500\n",
        "\n",
        "#declare empty list for digits / labels\n",
        "inputs = []\n",
        "labels = []\n",
        "\n",
        "# Loop to randomly sample the instances for each digit:\n",
        "for r in classes:\n",
        "    imgs = X_train[np.where(y_train==r)[0],:]\n",
        "    inputs.append(imgs[np.random.permutation(imgs.shape[0]),:][0:inst_class,:])\n",
        "    labels.append(np.ones(inst_class)*r) \n",
        "\n",
        "# Shaping inputs and labels in the right format    \n",
        "X_train = np.vstack(inputs).astype(np.float64)\n",
        "y_train = np.hstack(labels)"
      ],
      "execution_count": 165,
      "outputs": []
    },
    {
      "cell_type": "markdown",
      "metadata": {
        "id": "_6-YHrQQMicy"
      },
      "source": [
        "New Classes Distribution"
      ]
    },
    {
      "cell_type": "code",
      "metadata": {
        "id": "RA300COaMxWm",
        "colab": {
          "base_uri": "https://localhost:8080/",
          "height": 621
        },
        "outputId": "cd9d3063-3417-47d9-ea6b-f1805192fb85"
      },
      "source": [
        "# new histogram\n",
        "\n",
        "fig, ax = plt.subplots(figsize=(12,10))\n",
        "ind = np.arange(n_classes)\n",
        "\n",
        "n, bins, patches = ax.hist(y_train, ec='black', align='mid')\n",
        "ax.set_xlabel('classes')\n",
        "ax.set_ylabel('counts')\n",
        "ax.set_title(r'Histogram of Downsampled Distribution of Classes '+ str(classes))\n",
        "plt.show()"
      ],
      "execution_count": 166,
      "outputs": [
        {
          "output_type": "display_data",
          "data": {
            "image/png": "[encoded data removed]",
            "text/plain": [
              "<Figure size 864x720 with 1 Axes>"
            ]
          },
          "metadata": {
            "needs_background": "light"
          }
        }
      ]
    },
    {
      "cell_type": "code",
      "metadata": {
        "id": "eFgP4xugMvJm"
      },
      "source": [
        "# plot digits\n",
        "def plot_digits(instances, images_per_row=5, **options):\n",
        "    size = 28\n",
        "    images_per_row = min(len(instances), images_per_row)\n",
        "    images = [instance.reshape(size,size) for instance in instances]\n",
        "    n_rows = (len(instances) - 1) // images_per_row + 1\n",
        "    row_images = []\n",
        "    n_empty = n_rows * images_per_row - len(instances)\n",
        "    images.append(np.zeros((size, size * n_empty)))\n",
        "    for row in range(n_rows):\n",
        "        rimages = images[row * images_per_row : (row + 1) * images_per_row]\n",
        "        row_images.append(np.concatenate(rimages, axis=1))\n",
        "    image = np.concatenate(row_images, axis=0)\n",
        "    plt.imshow(image,  cmap='gist_yarg', **options)\n",
        "    plt.axis(\"off\")"
      ],
      "execution_count": 167,
      "outputs": []
    },
    {
      "cell_type": "code",
      "metadata": {
        "id": "zeEG-LGOM4fJ",
        "colab": {
          "base_uri": "https://localhost:8080/",
          "height": 288
        },
        "outputId": "aacaa11c-cbfd-4dd3-9acf-67809c3c0a15"
      },
      "source": [
        "# Show a few instances from each Digit:\n",
        "plt.figure(figsize=(20,8))\n",
        "show_i = 15\n",
        "\n",
        "# Selecting a few label indices from each of the 3 classes to show:\n",
        "label_indices = []\n",
        "for r in classes:\n",
        "    selected_indices = (np.where(y_train==r)[0][:show_i]).tolist()\n",
        "    label_indices.extend(selected_indices)\n",
        "\n",
        "label_indices\n",
        "# Plotting 'original' image\n",
        "plot_digits(X_train[label_indices,:],images_per_row=show_i)\n",
        "plt.title(\"Seelction Original Data Points (Images)\", fontsize=14)"
      ],
      "execution_count": 168,
      "outputs": [
        {
          "output_type": "execute_result",
          "data": {
            "text/plain": [
              "Text(0.5, 1.0, 'Seelction Original Data Points (Images)')"
            ]
          },
          "metadata": {},
          "execution_count": 168
        },
        {
          "output_type": "display_data",
          "data": {
            "image/png": "[encoded data removed]",
            "text/plain": [
              "<Figure size 1440x576 with 1 Axes>"
            ]
          },
          "metadata": {
            "needs_background": "light"
          }
        }
      ]
    },
    {
      "cell_type": "markdown",
      "metadata": {
        "id": "FsAOnOcNNG_V"
      },
      "source": [
        "###  Splitting the Training data into both Training and Validation Sets:\n",
        "\n",
        "- Although this is the Training set, we can still set aside some samples (for instance 20%) of the 1,500 instances we have for Model Validation purposes.\n",
        "\n",
        "\n",
        "- With that Validation Set, we can then select the amount of Uncertainty we are happy with from our Model to use out of sample on other unseen data.\n",
        "\n",
        "\n",
        "- We can then test out how well our decision performs on the Test Set that we put aside earlier."
      ]
    },
    {
      "cell_type": "code",
      "metadata": {
        "id": "YdsmyVAtPXNn"
      },
      "source": [
        "### Split tha dataset in training and validation sets\n",
        "# choose the fraction of your validation data from the training set\n",
        "w = 0.20\n",
        "X_train, X_val, y_train, y_val = train_test_split(X_train, y_train, test_size=w, random_state=0)\n",
        " \n",
        "# Shuffling the training instaces around to randomize the order of inputs to the model:\n",
        "X_train, y_train = shuffle(X_train, y_train)"
      ],
      "execution_count": 169,
      "outputs": []
    },
    {
      "cell_type": "code",
      "metadata": {
        "id": "qXwJwP0iPxhi",
        "colab": {
          "base_uri": "https://localhost:8080/"
        },
        "outputId": "799f2852-a26f-45b6-fbd5-b9fa74e3029c"
      },
      "source": [
        "# print shape of your validation and training set\n",
        "print(X_train.shape)\n",
        "print(X_val.shape)\n",
        "print(y_train.shape)\n",
        "print(y_val.shape)\n",
        "\n"
      ],
      "execution_count": 170,
      "outputs": [
        {
          "output_type": "stream",
          "name": "stdout",
          "text": [
            "(3600, 784)\n",
            "(900, 784)\n",
            "(3600,)\n",
            "(900,)\n"
          ]
        }
      ]
    },
    {
      "cell_type": "markdown",
      "metadata": {
        "id": "aOroY1QoP8DY"
      },
      "source": [
        "### Encoding the Class labels for the Probabilistic ML Model:\n",
        "\n",
        "This is an example:\n",
        "\n",
        "- **[1,0,0]** for first digit\n",
        "- **[0,1,0]** for second digit\n",
        "- **[0,0,1]** for third digit"
      ]
    },
    {
      "cell_type": "markdown",
      "metadata": {
        "id": "rjUaqWTqQIcp"
      },
      "source": [
        "### General-Recipe ML Solution"
      ]
    },
    {
      "cell_type": "code",
      "metadata": {
        "id": "QzgdivxfQNv5",
        "colab": {
          "base_uri": "https://localhost:8080/"
        },
        "outputId": "b3e556b5-e0b3-45cc-a308-8edf58bfd3cb"
      },
      "source": [
        "# model\n",
        "model_log = LogisticRegression(random_state=0, max_iter=2000, C=100, solver='lbfgs', multi_class='multinomial').fit(X_train, y_train)\n",
        "\n",
        "# Classification:\n",
        "y_pred_log = model_log.predict(X_val)\n",
        "y_pred_logi_prob = model_log.predict_proba(X_val)\n",
        "\n",
        "# Taking the maximum probability in any of the classes for each observation\n",
        "prob_classmax = np.max(y_pred_logi_prob,axis=1)\n",
        "\n",
        "# Computing the Accuracy:\n",
        "accuracy_score(y_pred_log, y_val)"
      ],
      "execution_count": 171,
      "outputs": [
        {
          "output_type": "execute_result",
          "data": {
            "text/plain": [
              "0.9488888888888889"
            ]
          },
          "metadata": {},
          "execution_count": 171
        }
      ]
    },
    {
      "cell_type": "markdown",
      "metadata": {
        "id": "pUng7act9Ymx"
      },
      "source": [
        "###Test Accuracy of General-Recipie ML Solution"
      ]
    },
    {
      "cell_type": "code",
      "metadata": {
        "colab": {
          "base_uri": "https://localhost:8080/"
        },
        "id": "zh3fERxV9SEQ",
        "outputId": "b874c3fb-d27f-4517-fb51-a4acc579e0cd"
      },
      "source": [
        "# Computing the Accuracy:\n",
        "print(classification_report(y_pred_log, y_val))"
      ],
      "execution_count": 172,
      "outputs": [
        {
          "output_type": "stream",
          "name": "stdout",
          "text": [
            "              precision    recall  f1-score   support\n",
            "\n",
            "         4.0       0.95      0.95      0.95       301\n",
            "         8.0       0.94      0.96      0.95       304\n",
            "         9.0       0.95      0.94      0.94       295\n",
            "\n",
            "    accuracy                           0.95       900\n",
            "   macro avg       0.95      0.95      0.95       900\n",
            "weighted avg       0.95      0.95      0.95       900\n",
            "\n"
          ]
        }
      ]
    },
    {
      "cell_type": "code",
      "metadata": {
        "colab": {
          "base_uri": "https://localhost:8080/"
        },
        "id": "w8uKTrMdcapx",
        "outputId": "f964e9ae-a206-44b1-bb26-044e4dbc086f"
      },
      "source": [
        "# probability of general-recipe logistic regression in wrong instances\n",
        "np.sort(prob_classmax)\n",
        "\n",
        "#show the probabilities of the mis-classified images\n",
        "print(\"No of Misclassifications : \" + str(len(prob_classmax[y_pred_log!=y_val])))\n",
        "\n",
        "#get the mean of the probabbilty (Threshold for exclusion)\n",
        "exclusion_threshold = np.mean(prob_classmax[y_pred_log!=y_val],axis=0)\n",
        "#print(\"Exclusion Threshold : \" + str(exclusion_threshold))\n",
        "\n",
        "#Query to see how many images fall below this threshold\n",
        "difficult_items = np.where(prob_classmax < exclusion_threshold)\n",
        "\n",
        "#print(\"Indices to Exclude : \" + str(difficult_items[0]))\n",
        "#print(\"No of Items Excluded : \" + str(len(difficult_items[0])))\n"
      ],
      "execution_count": 221,
      "outputs": [
        {
          "output_type": "stream",
          "name": "stdout",
          "text": [
            "No of Misclassifications : 46\n"
          ]
        }
      ]
    },
    {
      "cell_type": "markdown",
      "metadata": {
        "id": "3uQG6JsOQxH5"
      },
      "source": [
        "### Probabilistic Multinomial Logistic Regression:"
      ]
    },
    {
      "cell_type": "markdown",
      "metadata": {
        "id": "irlmUNw7Q5YL"
      },
      "source": [
        "The Multinomial Logistic Regression has some parameters:\n",
        "\n",
        "- $\\alpha$, which is the intercept term:\n",
        "\n",
        "- $\\beta$, which is a vector of coefficients which give a weighting to the importance of each input feature:\n"
      ]
    },
    {
      "cell_type": "code",
      "metadata": {
        "id": "1o7mbKWmRhz5",
        "colab": {
          "base_uri": "https://localhost:8080/",
          "height": 54
        },
        "outputId": "331a2b03-44f6-4abd-e696-b1a1f7a15505"
      },
      "source": [
        "import sklearn.preprocessing\n",
        "## We use LabelBinarizer to transfer classes into counts\n",
        "# neg_label=0, pos_label=1 \n",
        "y_2_bin = sklearn.preprocessing.LabelBinarizer().fit_transform(y_train.reshape(-1,1))\n",
        "\n",
        "nf = X_train.shape[1]\n",
        "\n",
        "# number of classes\n",
        "nc = len(classes)\n",
        "\n",
        "# floatX = float32\n",
        "floatX = tt.config.floatX\n",
        "\n",
        "#generating the seed data for the MLR\n",
        "init_b = np.random.randn(nf, nc-1).astype(floatX)\n",
        "init_a = np.random.randn(nc-1).astype(floatX)\n",
        "\n",
        "with pm.Model() as multi_logistic:\n",
        "    # Prior\n",
        "    β = pm.Normal('beta', 0, sigma=100, shape=(nf, nc-1), testval=init_b)\n",
        "    α = pm.Normal('alpha', 0, sigma=100, shape=(nc-1,), testval=init_a)\n",
        "    \n",
        "    # we need to consider nc-1 features because the model is not identifiable\n",
        "    # the softmax turns a vector into a probability that sums up to one\n",
        "    # therefore we add zeros to go back to dimension nc\n",
        "    # so that softmax returns a vector of dimension nc\n",
        "    β1  = tt.tensor.concatenate([np.zeros((nf,1)),β],axis=1)\n",
        "    α1  = tt.tensor.concatenate([[0],α],)\n",
        "    \n",
        "    # Likelihood\n",
        "    mu = pm.math.matrix_dot(X_train,β1) + α1\n",
        "\n",
        "    # It doesn't work if the problem is binary\n",
        "    p = tt.tensor.nnet.nnet.softmax(mu)\n",
        "    observed = pm.Multinomial('likelihood', p=p, n=1, observed=y_2_bin)\n",
        "\n",
        "    approx = pm.fit(5000, method='advi')"
      ],
      "execution_count": 174,
      "outputs": [
        {
          "output_type": "display_data",
          "data": {
            "text/html": [
              "\n",
              "    <div>\n",
              "        <style>\n",
              "            /* Turns off some styling */\n",
              "            progress {\n",
              "                /* gets rid of default border in Firefox and Opera. */\n",
              "                border: none;\n",
              "                /* Needs to be in here for Safari polyfill so background images work as expected. */\n",
              "                background-size: auto;\n",
              "            }\n",
              "            .progress-bar-interrupted, .progress-bar-interrupted::-webkit-progress-bar {\n",
              "                background: #F44336;\n",
              "            }\n",
              "        </style>\n",
              "      <progress value='5000' class='' max='5000' style='width:300px; height:20px; vertical-align: middle;'></progress>\n",
              "      100.00% [5000/5000 01:26<00:00 Average Loss = 10,448]\n",
              "    </div>\n",
              "    "
            ],
            "text/plain": [
              "<IPython.core.display.HTML object>"
            ]
          },
          "metadata": {}
        },
        {
          "output_type": "stream",
          "name": "stderr",
          "text": [
            "Finished [100%]: Average Loss = 10,435\n"
          ]
        }
      ]
    },
    {
      "cell_type": "code",
      "metadata": {
        "id": "WNmJvYc4Rho7",
        "colab": {
          "base_uri": "https://localhost:8080/",
          "height": 390
        },
        "outputId": "8b742bc3-559e-483e-fb0c-ff67160df379"
      },
      "source": [
        "fig, ax = plt.subplots(figsize=(10, 6))\n",
        "ax.plot(approx.hist, alpha=0.8)\n",
        "ax.set_title(\"Loss of BML\")\n",
        "plt.show()"
      ],
      "execution_count": 175,
      "outputs": [
        {
          "output_type": "display_data",
          "data": {
            "image/png": "[encoded data removed]",
            "text/plain": [
              "<Figure size 720x432 with 1 Axes>"
            ]
          },
          "metadata": {
            "needs_background": "light"
          }
        }
      ]
    },
    {
      "cell_type": "code",
      "metadata": {
        "id": "XXh5GXJsRhmr"
      },
      "source": [
        "dd = 300\n",
        "posterior = approx.sample(draws=dd)"
      ],
      "execution_count": 176,
      "outputs": []
    },
    {
      "cell_type": "code",
      "metadata": {
        "colab": {
          "base_uri": "https://localhost:8080/",
          "height": 244
        },
        "id": "44aSXeELg2HG",
        "outputId": "a49884c3-9bb6-43bc-8557-b90956489690"
      },
      "source": [
        "## The softmax function transforms each element of a collection by computing the exponential\n",
        "#  of each element divided by the sum of the exponentials of all the elements.\n",
        "from scipy.special import softmax\n",
        "\n",
        "#select an image in the test set\n",
        "i = random.randint(0, X_val.shape[0])\n",
        "\n",
        "#select a sample in the posterior\n",
        "s = random.randint(0, dd)\n",
        "\n",
        "beta  = np.hstack([np.zeros((nf,1)), posterior['beta'][s,:]])\n",
        "alpha = np.hstack([[0],  posterior['alpha'][s,:] ])\n",
        "image = X_val[i,:].reshape(28,28)\n",
        "plt.figure(figsize=(2,2))\n",
        "plt.imshow(image,cmap=\"Greys_r\")\n",
        "np.set_printoptions(suppress=True)\n",
        "\n",
        "print(\"test image #\" + str(i))\n",
        "print(\"posterior sample #\" + str(s))\n",
        "print(\"true class=\", y_val[i])\n",
        "print(\"classes: \" + str(classes))\n",
        "print(\"estimated prob=\",softmax((np.array([X_val[i,:].dot(beta) + alpha])))[0,:])"
      ],
      "execution_count": 177,
      "outputs": [
        {
          "output_type": "stream",
          "name": "stdout",
          "text": [
            "test image #742\n",
            "posterior sample #93\n",
            "true class= 4.0\n",
            "classes: [4, 8, 9]\n",
            "estimated prob= [0.91393562 0.00000173 0.08606265]\n"
          ]
        },
        {
          "output_type": "display_data",
          "data": {
            "image/png": "[encoded data removed]",
            "text/plain": [
              "<Figure size 144x144 with 1 Axes>"
            ]
          },
          "metadata": {
            "needs_background": "light"
          }
        }
      ]
    },
    {
      "cell_type": "code",
      "metadata": {
        "id": "EOOMfSymhVqU"
      },
      "source": [
        "# Bayesian prediction\n",
        "# return the class that has the highest posterior probability\n",
        "y_pred_Bayesian=[]\n",
        "\n",
        "for i in range(X_val.shape[0]):\n",
        "    val=np.zeros((1,len(classes)))\n",
        "    \n",
        "    for s in range(posterior['beta'].shape[0]):\n",
        "        beta = np.hstack([np.zeros((nf,1)), posterior['beta'][s,:]])\n",
        "        alpha = np.hstack([[0],  posterior['alpha'][s,:] ])     \n",
        "        val = val + softmax((np.array([X_val[i,:].dot(beta) + alpha])))\n",
        "\n",
        "        #print(s,val)\n",
        "    \n",
        "    mean_probability = val/posterior['beta'].shape[0]\n",
        "\n",
        "    #print(i, mean_probability)\n",
        "    \n",
        "    y_pred_Bayesian.append(np.argmax(mean_probability))"
      ],
      "execution_count": 178,
      "outputs": []
    },
    {
      "cell_type": "code",
      "metadata": {
        "colab": {
          "base_uri": "https://localhost:8080/"
        },
        "id": "vBlPNdWav72_",
        "outputId": "8975b4f5-9b81-45b1-d8cf-99f0f83412f7"
      },
      "source": [
        "#recall the classes we are using\n",
        "print(classes)"
      ],
      "execution_count": 179,
      "outputs": [
        {
          "output_type": "stream",
          "name": "stdout",
          "text": [
            "[4, 8, 9]\n"
          ]
        }
      ]
    },
    {
      "cell_type": "code",
      "metadata": {
        "colab": {
          "base_uri": "https://localhost:8080/"
        },
        "id": "vdKuqH5awQR-",
        "outputId": "86374579-690e-481e-91cd-e2497e8d2712"
      },
      "source": [
        "# prediction array (using classes)\n",
        "nn = 20 # just an example\n",
        "np.array(classes)[y_pred_Bayesian[0:nn]]"
      ],
      "execution_count": 180,
      "outputs": [
        {
          "output_type": "execute_result",
          "data": {
            "text/plain": [
              "array([8, 8, 8, 8, 8, 8, 4, 4, 4, 4, 8, 9, 8, 9, 9, 8, 4, 9, 8, 8])"
            ]
          },
          "metadata": {},
          "execution_count": 180
        }
      ]
    },
    {
      "cell_type": "code",
      "metadata": {
        "colab": {
          "base_uri": "https://localhost:8080/"
        },
        "id": "BsylHEvtwdRL",
        "outputId": "7b5ea4b8-4eba-4606-8d00-cb5ba7dc731e"
      },
      "source": [
        "# using validation: y_val\n",
        "print(\"Accuracy=\", accuracy_score(np.array(classes)[y_pred_Bayesian], y_val))"
      ],
      "execution_count": 181,
      "outputs": [
        {
          "output_type": "stream",
          "name": "stdout",
          "text": [
            "Accuracy= 0.9011111111111111\n"
          ]
        }
      ]
    },
    {
      "cell_type": "code",
      "metadata": {
        "id": "ZtnQqZ7Ai8I4"
      },
      "source": [
        "y_predB=[]\n",
        "\n",
        "for i in range(X_val.shape[0]):\n",
        "    #print(i)\n",
        "    val=[]\n",
        "\n",
        "    for s in range(posterior['beta'].shape[0]):\n",
        "        beta = np.hstack([np.zeros((nf,1)),  posterior['beta'][s,:] ])\n",
        "        alpha = np.hstack([[0],  posterior['alpha'][s,:] ])\n",
        "        val.append(softmax((np.array([X_val[i,:].dot(beta) + alpha])))[0,:])\n",
        "\n",
        "    #mean probability\n",
        "    valmean = np.mean(val,axis=0)\n",
        "    #class with maximum mean probability\n",
        "    classmax = np.argmax(valmean)\n",
        "    #ranks\n",
        "    ranks = np.array(val.copy())\n",
        "    ranks   = ranks*0  #init\n",
        "    colmax = np.argmax(np.array(val),axis=1)\n",
        "    ranks[np.arange(0,len(colmax)),colmax]=1\n",
        "     \n",
        "    y_predB.append( [classmax, valmean[classmax], np.std(ranks,axis=0)[classmax]])\n",
        "\n",
        "y_predB= np.array(y_predB)\n",
        "    "
      ],
      "execution_count": 182,
      "outputs": []
    },
    {
      "cell_type": "code",
      "metadata": {
        "colab": {
          "base_uri": "https://localhost:8080/"
        },
        "id": "qxIP0pYkP70S",
        "outputId": "62499991-2299-4dcd-f9c4-3492f0a070ba"
      },
      "source": [
        "y_predB.shape"
      ],
      "execution_count": 183,
      "outputs": [
        {
          "output_type": "execute_result",
          "data": {
            "text/plain": [
              "(900, 3)"
            ]
          },
          "metadata": {},
          "execution_count": 183
        }
      ]
    },
    {
      "cell_type": "code",
      "metadata": {
        "colab": {
          "base_uri": "https://localhost:8080/"
        },
        "id": "bkgXVH7FlmYX",
        "outputId": "7e46325a-a5a6-47ed-ebcd-6620d3865cea"
      },
      "source": [
        "# prediction array\n",
        "mm = 10\n",
        "y_predB[0:mm,:]"
      ],
      "execution_count": 184,
      "outputs": [
        {
          "output_type": "execute_result",
          "data": {
            "text/plain": [
              "array([[1.        , 0.72048852, 0.44221664],\n",
              "       [1.        , 0.99668285, 0.05763872],\n",
              "       [1.        , 0.96774179, 0.17058722],\n",
              "       [1.        , 0.9956501 , 0.08137704],\n",
              "       [1.        , 0.99828093, 0.        ],\n",
              "       [1.        , 0.53581302, 0.49553562],\n",
              "       [0.        , 0.88841581, 0.3       ],\n",
              "       [0.        , 0.40423505, 0.49243161],\n",
              "       [0.        , 0.73580175, 0.43679387],\n",
              "       [0.        , 0.69264435, 0.4552899 ]])"
            ]
          },
          "metadata": {},
          "execution_count": 184
        }
      ]
    },
    {
      "cell_type": "code",
      "metadata": {
        "colab": {
          "base_uri": "https://localhost:8080/"
        },
        "id": "rKA9mV05qNfQ",
        "outputId": "2fd6470e-d529-4f4a-aced-699d75ebee89"
      },
      "source": [
        "#sorting in descending order\n",
        "difficult = np.argsort(-y_predB[:,2])\n",
        "y_predB[difficult[0:mm],:]"
      ],
      "execution_count": 185,
      "outputs": [
        {
          "output_type": "execute_result",
          "data": {
            "text/plain": [
              "array([[2.        , 0.49852872, 0.49998889],\n",
              "       [2.        , 0.50943898, 0.49998889],\n",
              "       [0.        , 0.49144297, 0.49998889],\n",
              "       [0.        , 0.51355982, 0.49995555],\n",
              "       [1.        , 0.49204392, 0.49995555],\n",
              "       [0.        , 0.48966055, 0.49995555],\n",
              "       [2.        , 0.49677194, 0.49989999],\n",
              "       [2.        , 0.49081751, 0.49989999],\n",
              "       [2.        , 0.50014728, 0.49982219],\n",
              "       [2.        , 0.48607935, 0.49982219]])"
            ]
          },
          "metadata": {},
          "execution_count": 185
        }
      ]
    },
    {
      "cell_type": "code",
      "metadata": {
        "colab": {
          "base_uri": "https://localhost:8080/"
        },
        "id": "kU7B-oICq0L_",
        "outputId": "96461469-d3f7-4d8c-eeb2-405179c72d4e"
      },
      "source": [
        "# probability of general-recipe logistic regression in wrong instances\n",
        "print(prob_classmax[y_pred_log!=y_val])\n"
      ],
      "execution_count": 186,
      "outputs": [
        {
          "output_type": "stream",
          "name": "stdout",
          "text": [
            "[0.98846377 0.64337831 0.99333604 0.89950939 0.82310903 0.72330941\n",
            " 0.99992331 0.99995801 0.99999988 0.51229803 0.99051143 0.97580973\n",
            " 0.96928859 0.99999953 0.97400777 0.99491211 1.         0.99305061\n",
            " 0.99703231 0.98529368 0.75475583 0.9232436  0.82065409 0.91530957\n",
            " 0.8740901  0.9947946  0.51249674 0.99996935 0.86105232 0.99999195\n",
            " 0.999981   0.99062947 0.99816002 0.58037703 0.95939365 1.\n",
            " 0.83141913 0.79678629 0.99999448 0.99999189 0.76965464 0.9384487\n",
            " 0.70478107 0.99999986 0.933874   0.99999294]\n"
          ]
        }
      ]
    },
    {
      "cell_type": "code",
      "metadata": {
        "colab": {
          "base_uri": "https://localhost:8080/"
        },
        "id": "uykT8Ynjq-Ah",
        "outputId": "e59489e8-79fb-4244-c1e2-63d577bd4f86"
      },
      "source": [
        "y_predB[y_pred_log != y_val,:]"
      ],
      "execution_count": 187,
      "outputs": [
        {
          "output_type": "execute_result",
          "data": {
            "text/plain": [
              "array([[1.        , 0.71765418, 0.44221664],\n",
              "       [1.        , 0.98005325, 0.11469767],\n",
              "       [1.        , 0.8888691 , 0.3       ],\n",
              "       [2.        , 0.49081751, 0.49989999],\n",
              "       [2.        , 0.87379268, 0.3       ],\n",
              "       [1.        , 0.81611494, 0.3756328 ],\n",
              "       [2.        , 0.97788547, 0.1280191 ],\n",
              "       [1.        , 0.7608856 , 0.41647996],\n",
              "       [0.        , 0.54643969, 0.49677851],\n",
              "       [2.        , 0.96658139, 0.15095989],\n",
              "       [1.        , 0.73957678, 0.41867516],\n",
              "       [2.        , 0.55929211, 0.49597267],\n",
              "       [0.        , 0.61764592, 0.48455019],\n",
              "       [2.        , 0.79362726, 0.39747816],\n",
              "       [0.        , 0.62114355, 0.48368952],\n",
              "       [2.        , 0.88624585, 0.30439375],\n",
              "       [1.        , 0.96282936, 0.18794207],\n",
              "       [0.        , 0.5186108 , 0.49982219],\n",
              "       [2.        , 0.81120891, 0.37853519],\n",
              "       [1.        , 0.64344384, 0.46647615],\n",
              "       [2.        , 0.80351276, 0.38418745],\n",
              "       [0.        , 0.68425547, 0.46110977],\n",
              "       [1.        , 0.55124158, 0.49749372],\n",
              "       [2.        , 0.72941904, 0.44899889],\n",
              "       [1.        , 0.7392194 , 0.43492017],\n",
              "       [0.        , 0.56276181, 0.49553562],\n",
              "       [2.        , 0.95901396, 0.18794207],\n",
              "       [1.        , 0.55229157, 0.49714742],\n",
              "       [1.        , 0.90219785, 0.3       ],\n",
              "       [2.        , 0.9505646 , 0.17950549],\n",
              "       [0.        , 0.63259202, 0.47901519],\n",
              "       [1.        , 0.93368682, 0.24944383],\n",
              "       [0.        , 0.8262145 , 0.372678  ],\n",
              "       [2.        , 0.97556706, 0.11469767],\n",
              "       [0.        , 0.6071997 , 0.4861984 ],\n",
              "       [0.        , 0.5765765 , 0.48774994],\n",
              "       [0.        , 0.52219855, 0.49928838],\n",
              "       [1.        , 0.80072703, 0.38693956],\n",
              "       [1.        , 0.8958573 , 0.28618176],\n",
              "       [1.        , 0.93043848, 0.23748684],\n",
              "       [0.        , 0.44139461, 0.49749372],\n",
              "       [1.        , 0.53050673, 0.49811868],\n",
              "       [1.        , 0.91336466, 0.26606181],\n",
              "       [0.        , 0.6461659 , 0.4748216 ],\n",
              "       [2.        , 0.84243509, 0.35041246],\n",
              "       [1.        , 0.91740711, 0.24356154]])"
            ]
          },
          "metadata": {},
          "execution_count": 187
        }
      ]
    },
    {
      "cell_type": "code",
      "metadata": {
        "colab": {
          "base_uri": "https://localhost:8080/"
        },
        "id": "bpsX_BHcuFHK",
        "outputId": "7041df5d-0ceb-4462-f902-2a1e7b46e7c1"
      },
      "source": [
        "## Difficult & easy instances\n",
        "\n",
        "easy = np.argsort(y_predB[:,2])\n",
        "print(\"Accuracy for all instances =\", accuracy_score(y_pred_log, y_val))\n",
        "\n",
        "easy = np.argsort(y_predB[:,2])\n",
        "print(\"Accuracy in easy instances =\", accuracy_score(y_pred_log[easy[0:100]], y_val[easy[0:100]]))\n",
        "\n",
        "difficult = np.argsort(-y_predB[:,2])\n",
        "print(\"Accuracy in difficult instances =\", accuracy_score(y_pred_log[difficult[0:100]], y_val[difficult[0:100]]))"
      ],
      "execution_count": 188,
      "outputs": [
        {
          "output_type": "stream",
          "name": "stdout",
          "text": [
            "Accuracy for all instances = 0.9488888888888889\n",
            "Accuracy in easy instances = 1.0\n",
            "Accuracy in difficult instances = 0.9\n"
          ]
        }
      ]
    },
    {
      "cell_type": "code",
      "metadata": {
        "colab": {
          "base_uri": "https://localhost:8080/",
          "height": 357
        },
        "id": "rI2bwBqr7poN",
        "outputId": "6a2d2cac-1bd3-488c-a658-7f382e2e9128"
      },
      "source": [
        "# show 10 random 'easy' images\n",
        "fig, axs = plt.subplots(2,5, figsize=(15, 6))\n",
        "fig.subplots_adjust(hspace = .2, wspace=.001)\n",
        "axs = axs.ravel()\n",
        "\n",
        "for i in range(10):\n",
        "    index = easy[i]\n",
        "    image = X_val[index,:].reshape(28,28)\n",
        "    axs[i].axis('off')\n",
        "    axs[i].imshow(image,cmap=\"Greys_r\")"
      ],
      "execution_count": 189,
      "outputs": [
        {
          "output_type": "display_data",
          "data": {
            "image/png": "[encoded data removed]",
            "text/plain": [
              "<Figure size 1080x432 with 10 Axes>"
            ]
          },
          "metadata": {
            "needs_background": "light"
          }
        }
      ]
    },
    {
      "cell_type": "code",
      "metadata": {
        "colab": {
          "base_uri": "https://localhost:8080/",
          "height": 357
        },
        "id": "wIkmCzFx7tnr",
        "outputId": "6b63ccd3-06f4-4da7-f01f-ee9d8fd43f20"
      },
      "source": [
        "# show 10 random 'difficult' images\n",
        "fig, axs = plt.subplots(2,5, figsize=(15, 6))\n",
        "fig.subplots_adjust(hspace = .2, wspace=.001)\n",
        "axs = axs.ravel()\n",
        "\n",
        "for i in range(10):\n",
        "    index = difficult[i]\n",
        "    image = X_val[index,:].reshape(28,28)\n",
        "    axs[i].axis('off')\n",
        "    axs[i].imshow(image,cmap=\"Greys_r\")\n"
      ],
      "execution_count": 190,
      "outputs": [
        {
          "output_type": "display_data",
          "data": {
            "image/png": "[encoded data removed]",
            "text/plain": [
              "<Figure size 1080x432 with 10 Axes>"
            ]
          },
          "metadata": {
            "needs_background": "light"
          }
        }
      ]
    },
    {
      "cell_type": "markdown",
      "metadata": {
        "id": "NcshsLOGRPrk"
      },
      "source": [
        "## Remove the Difficult Images and Retrain Model"
      ]
    },
    {
      "cell_type": "code",
      "metadata": {
        "colab": {
          "base_uri": "https://localhost:8080/"
        },
        "id": "8eOP-_2yPcBB",
        "outputId": "2bd95ae2-fdb0-482d-dfa0-3d3b42307f4d"
      },
      "source": [
        "#print(y_predB[2].dtype)\n",
        "\n",
        "#Calculate the posterior uncertainty of the misclassified items and create a threshold to remove images\n",
        "ex_threshold = np.mean(y_predB[difficult_items[0],:],axis=0)[2]\n",
        "print(ex_threshold)\n",
        "\n",
        "#create a new list of images to include to retrain\n",
        "easy_i = np.where(y_predB[:,2] <= 0.4999)\n",
        "\n",
        "# create new data set without selectec images\n",
        "X_val_e = X_val[easy_i[0]]\n",
        "y_val_e = y_val[easy_i[0]]\n",
        "\n",
        "# print shape of new data sets\n",
        "print(X_val_e.shape)\n",
        "print(y_val_e.shape)\n"
      ],
      "execution_count": 217,
      "outputs": [
        {
          "output_type": "stream",
          "name": "stdout",
          "text": [
            "0.34811092473688243\n",
            "(894, 784)\n",
            "(894,)\n"
          ]
        }
      ]
    },
    {
      "cell_type": "code",
      "metadata": {
        "colab": {
          "base_uri": "https://localhost:8080/"
        },
        "id": "ZuyfLyd8ALg4",
        "outputId": "33f5a41e-4dc6-46ec-f899-7713bb3c2b32"
      },
      "source": [
        "# model\n",
        "model_log_easier = LogisticRegression(random_state=0, max_iter=2000, C=100, solver='lbfgs', multi_class='multinomial').fit(X_val_e, y_val_e)\n",
        "\n",
        "# Classification:\n",
        "y_pred_log_easier = model_log_easier.predict(X_val)\n",
        "y_pred_log_prob_easier = model_log_easier.predict_proba(X_val)\n",
        "\n",
        "# Taking the maximum probability in any of the classes for each observation\n",
        "prob_classmax_easier = np.max(y_pred_log_prob_easier,axis=1)\n",
        "\n",
        "# Original the Accuracy:\n",
        "print(\"Accuracy (Original) : \" + str(accuracy_score(y_pred_log, y_val)))\n",
        "\n",
        "#show the probabilities of the mis-classified images\n",
        "print(\"No of Misclassifications (Original) : \" + str(len(prob_classmax[y_pred_log!=y_val])))\n",
        "\n",
        "# Computing the Accuracy:\n",
        "print(\"Accuracy (Re-Trained) : \" + str(accuracy_score(y_pred_log_easier, y_val)))\n",
        "\n",
        "#show the probabilities of the mis-classified images\n",
        "print(\"No of Misclassifications (Re-Trained) : \" + str(len(prob_classmax_easier[y_pred_log_easier!=y_val])))\n",
        "\n"
      ],
      "execution_count": 218,
      "outputs": [
        {
          "output_type": "stream",
          "name": "stdout",
          "text": [
            "Accuracy (Original) : 0.9488888888888889\n",
            "No of Misclassifications (Original) : 46\n",
            "Accuracy (Re-Trained) : 1.0\n",
            "No of Misclassifications (Re-Trained) : 0\n"
          ]
        }
      ]
    },
    {
      "cell_type": "markdown",
      "metadata": {
        "id": "DZry4A2uAE6t"
      },
      "source": [
        "## Summary"
      ]
    },
    {
      "cell_type": "markdown",
      "metadata": {
        "id": "XTc4pYKGRR60"
      },
      "source": [
        "**Practicalities** : I had developed all the Year 1 E-tivities using Visual Studio Code (Anaconda). I switched to Colab for this exercise and found it very good to use. I also switched from GitLab to GitHub to manage source files. I used Google Drive to host the data files as I came up against errors in uploading the files to Colab (size issue).\n",
        " \n",
        "**Dataset** : I approached this e-tivity in a similar fashion to others, using the Traffic Signs Lab as a guide. The initial task was to import and analyse the data set. The initial EDA  of the data set didn't produce any issues. The MNIST dataset provided images of 28×28  pixels and was  well distributed across 10 classes. The testing and training data were in the order of 60K and 10K data points respectively. Each image was made up of a 784 wide vector describing the images as a set of grayscale values (0-255). The only pre-processing step was to normalise the data by dividing all values by 255 to bring them into a range of [0,1. The dataset was quite large so I downsampled the data 1) by selecting 3 digits out of the 10 to work with and 2) selecting a limited number of samples of the training data to train the system (1500). This was to speed up dev / computation time. The only other pre-processing was to apply the LabelBinarizer() to the downsampled data to one-hot encode the Class labels for processing.\n",
        " \n",
        "**Training / Test Data** : The training data was split using the scikit-learn model_selection module and was done so on a 80/20 split between training and validation data.\n",
        " \n",
        "**Models** I implemented the initial GRML using the scikit-learn library and standard parameter setup. I employed the classification_report module (used in Year 1 E-tivities) to produce fast Precision, Recall and F1-Score data to assess the model. It achieved an overall accuracy of 95%. I also took note of the mis-classified items and used them to try and devise a way to define a threshold to allow us to remove difficult to classify images for removal.\n",
        " \n",
        "The second model devised was the Multinomial Logistic Regression (MLR) solution. This leveraged the Traffic Sign implementation. This was done using the pymc3 module. The MLR model was fitted over 5000 iterations and shows a good reduction in loss and an overall accuracy of 90%. The Bayesian theory allowed the analysis of the standard deviation of the predictions across the classes of all instances allowing the ranking of difficulty in identifying the images successfully. Higer SD = More Difficult.\n",
        " \n",
        "**Removal of Difficult Images** I tried to approach this from a slightly different point of view to try and extend my knowledge and experiment a little. I did some analysis of the mis-classified images from the first pass of the GRML. With these images identified I extracted their data from the ranking module and took the mean of the SD to see if we could identify a threshold that would allow us to remove difficult to identify images from the data set to retrain the GRML. This threshold of SD emerged as 0.35 but made no difference to the overall accuracy of the model. I did however start to manually tune the parameter and it gave me control over how many of the difficult samples were dropped from the data set before the model was retrained. It transpired that by manually tuning this to 0.499 it brought the accuracy to 99.4 (27 data points dropped) and 0.4999 brought it to 100% (6 items dropped)\n",
        " \n",
        "I would have liked to have done further analysis but ran short on time.\n",
        " \n",
        " \n",
        " \n",
        " \n",
        " \n",
        " \n",
        " \n",
        " \n",
        " \n",
        "\n"
      ]
    },
    {
      "cell_type": "markdown",
      "metadata": {
        "id": "lKQkOv5LqpM7"
      },
      "source": [
        "###References\n",
        "\n",
        "1. Brownlee, J. (2020). Multinomial Logistic Regression With Python. [online] Machine Learning Mastery. Available at: https://machinelearningmastery.com/multinomial-logistic-regression-with-python/.\n",
        "\n",
        "2. VanderPlas, J. (2019). In Depth: Naive Bayes Classification | Python Data Science Handbook. [online] Github.io. Available at: https://jakevdp.github.io/PythonDataScienceHandbook/05.05-naive-bayes.html.\n",
        "\n",
        "3. Ismiguzel, I. (2021). Naive Bayes Algorithm for Classification. [online] Medium. Available at: https://towardsdatascience.com/naive-bayes-algorithm-for-classification-bc5e98bff4d7 [Accessed 19 Sep. 2021].\n",
        "\n",
        "4. colab.research.google.com. (n.d.). Google Colaboratory. [online] Available at: https://colab.research.google.com/github/adhiraiyan/DeepLearningWithTF2.0/blob/master/notebooks/03.00-Probability-and-Information-Theory.ipynb#scrollTo=XGYEJ_saDdid [Accessed 19 Sep. 2021].\n",
        "\n",
        "‌\n",
        "\n",
        "‌"
      ]
    },
    {
      "cell_type": "code",
      "metadata": {
        "id": "phnOKJOZqo6r"
      },
      "source": [
        ""
      ],
      "execution_count": 192,
      "outputs": []
    }
  ]
}